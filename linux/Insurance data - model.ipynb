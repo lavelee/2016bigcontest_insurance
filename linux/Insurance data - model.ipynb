{
 "cells": [
  {
   "cell_type": "markdown",
   "metadata": {},
   "source": [
    "        'test_cucntt_label' : test_cucntt_label,\n",
    "        'test_cucntt_data' : test_cucntt_data,\n",
    "        'train_cucntt_label' : train_cucntt_label,\n",
    "        'train_cucntt_data' : train_cucntt_data,\n",
    "        'test_cuclaim_label' : test_cuclaim_label,\n",
    "        'test_cuclaim_data' : test_cuclaim_data,\n",
    "        'train_cuclaim_label' : train_cuclaim_label,\n",
    "        'train_cuclaim_data' : train_cuclaim_data"
   ]
  },
  {
   "cell_type": "code",
   "execution_count": 1,
   "metadata": {
    "cellView": "both",
    "colab": {
     "autoexec": {
      "startup": false,
      "wait_interval": 0
     }
    },
    "colab_type": "code",
    "collapsed": true,
    "id": "JLpLa8Jt7Vu4"
   },
   "outputs": [],
   "source": [
    "# These are all the modules we'll be using later. Make sure you can import them\n",
    "# before proceeding further.\n",
    "from __future__ import print_function\n",
    "import numpy as np\n",
    "import tensorflow as tf\n",
    "from six.moves import cPickle as pickle"
   ]
  },
  {
   "cell_type": "markdown",
   "metadata": {
    "colab_type": "text",
    "id": "1HrCK6e17WzV"
   },
   "source": [
    "First reload the data we generated in _notmist.ipynb_."
   ]
  },
  {
   "cell_type": "code",
   "execution_count": 2,
   "metadata": {
    "cellView": "both",
    "colab": {
     "autoexec": {
      "startup": false,
      "wait_interval": 0
     },
     "output_extras": [
      {
       "item_id": 1
      }
     ]
    },
    "colab_type": "code",
    "collapsed": false,
    "executionInfo": {
     "elapsed": 11777,
     "status": "ok",
     "timestamp": 1449849322348,
     "user": {
      "color": "",
      "displayName": "",
      "isAnonymous": false,
      "isMe": true,
      "permissionId": "",
      "photoUrl": "",
      "sessionId": "0",
      "userId": ""
     },
     "user_tz": 480
    },
    "id": "y3-cj1bpmuxc",
    "outputId": "e03576f1-ebbe-4838-c388-f1777bcc9873"
   },
   "outputs": [
    {
     "name": "stdout",
     "output_type": "stream",
     "text": [
      "cucntt Test set :  (20802,) (20802, 41)\n",
      "cucntt Training set :  (83212,) (83212, 41)\n",
      "cuclaim Test set :  (9825,) (9825, 56)\n",
      "cuclaim Training set :  (39303,) (39303, 56)\n"
     ]
    }
   ],
   "source": [
    "pickle_file = 'cucntt_cuclaim_null_randomfix.pickle'\n",
    "\n",
    "with open(pickle_file, 'rb') as f:\n",
    "  save = pickle.load(f)\n",
    "  test_cucntt_label = save['test_cucntt_label']\n",
    "  test_cucntt_data = save['test_cucntt_data']\n",
    "  train_cucntt_label = save['train_cucntt_label']\n",
    "  train_cucntt_data = save['train_cucntt_data']\n",
    "  test_cuclaim_label = save['test_cuclaim_label']\n",
    "  test_cuclaim_data = save['test_cuclaim_data']\n",
    "  train_cuclaim_label = save['train_cuclaim_label']\n",
    "  train_cuclaim_data = save['train_cuclaim_data']\n",
    "  cucntt_column_names = save['cucntt_column_names']\n",
    "  cuclaim_column_names = save['cuclaim_column_names']\n",
    "  train_cucntt_distri = save['train_cucntt_distri']\n",
    "  train_cuclaim_distri = save['train_cuclaim_distri']\n",
    "  \n",
    "\n",
    "del save  # hint to help gc free up memory\n",
    "print('cucntt Test set : ', test_cucntt_label.shape, test_cucntt_data.shape)\n",
    "print('cucntt Training set : ', train_cucntt_label.shape, train_cucntt_data.shape)\n",
    "print('cuclaim Test set : ', test_cuclaim_label.shape, test_cuclaim_data.shape)\n",
    "print('cuclaim Training set : ', train_cuclaim_label.shape, train_cuclaim_data.shape)\n"
   ]
  },
  {
   "cell_type": "markdown",
   "metadata": {
    "colab_type": "text",
    "id": "L7aHrm6nGDMB"
   },
   "source": [
    "one hot encoding"
   ]
  },
  {
   "cell_type": "code",
   "execution_count": 3,
   "metadata": {
    "cellView": "both",
    "colab": {
     "autoexec": {
      "startup": false,
      "wait_interval": 0
     },
     "output_extras": [
      {
       "item_id": 1
      }
     ]
    },
    "colab_type": "code",
    "collapsed": false,
    "executionInfo": {
     "elapsed": 11728,
     "status": "ok",
     "timestamp": 1449849322356,
     "user": {
      "color": "",
      "displayName": "",
      "isAnonymous": false,
      "isMe": true,
      "permissionId": "",
      "photoUrl": "",
      "sessionId": "0",
      "userId": ""
     },
     "user_tz": 480
    },
    "id": "IRSyYiIIGIzS",
    "outputId": "3f8996ee-3574-4f44-c953-5c8a04636582"
   },
   "outputs": [
    {
     "name": "stdout",
     "output_type": "stream",
     "text": [
      "cucntt Test set :  (20802, 2) (20802, 41)\n",
      "cucntt Training set :  (83212, 2) (83212, 41)\n",
      "cuclaim Test set :  (9825, 2) (9825, 56)\n",
      "cuclaim Training set :  (39303, 2) (39303, 56)\n"
     ]
    }
   ],
   "source": [
    "num_labels = 2\n",
    "\n",
    "def reformat(labels):\n",
    "  one_hot_encode = (np.arange(num_labels) == labels[:,None]).astype(np.float32)\n",
    "  return one_hot_encode \n",
    "\n",
    "test_cucntt_label=reformat(test_cucntt_label)\n",
    "train_cucntt_label=reformat(train_cucntt_label)\n",
    "test_cuclaim_label=reformat(test_cuclaim_label)\n",
    "train_cuclaim_label=reformat(train_cuclaim_label)\n",
    "\n",
    "print('cucntt Test set : ', test_cucntt_label.shape, test_cucntt_data.shape)\n",
    "print('cucntt Training set : ', train_cucntt_label.shape, train_cucntt_data.shape)\n",
    "print('cuclaim Test set : ', test_cuclaim_label.shape, test_cuclaim_data.shape)\n",
    "print('cuclaim Training set : ', train_cuclaim_label.shape, train_cuclaim_data.shape)"
   ]
  },
  {
   "cell_type": "code",
   "execution_count": 4,
   "metadata": {
    "cellView": "both",
    "colab": {
     "autoexec": {
      "startup": false,
      "wait_interval": 0
     }
    },
    "colab_type": "code",
    "collapsed": false,
    "id": "RajPLaL_ZW6w"
   },
   "outputs": [
    {
     "name": "stdout",
     "output_type": "stream",
     "text": [
      "cuclaim  selected\n"
     ]
    }
   ],
   "source": [
    "def accuracy(predictions, labels):\n",
    "  return (100.0 * np.sum(np.argmax(predictions, 1) == np.argmax(labels, 1))\n",
    "          / predictions.shape[0])\n",
    "\n",
    "def f1Score(predictions, labels):\n",
    "    predictions = np.array(predictions==predictions.max(axis=1)[:,None],dtype='int')\n",
    "    predict = np.sum(predictions,0)\n",
    "    real = np.sum(labels,0)\n",
    "    correct_predict = np.sum(labels*(np.argmax(predictions, 1) == np.argmax(labels, 1))[:,None],0)\n",
    "    f1_score=2*correct_predict[1]/predict[1]*correct_predict[1]/real[1]/(correct_predict[1]/predict[1]+correct_predict[1]/real[1])\n",
    "    #print(predictions)\n",
    "    #print(labels)\n",
    "    #print(predict)\n",
    "    print(\"sin predict\",predict[1])\n",
    "    print(\"sin correct predict : \",correct_predict[1])\n",
    "    print(\"sin real : \",real[1])\n",
    "    #print(\"\\nnot_sin pricision : \",correct_predict[0]/predict[0])\n",
    "    #print(\"not_sin   recall  : \",correct_predict[0]/real[0])\n",
    "    #print(\"not_sin F1 score  : \",2*correct_predict[0]/predict[0]*correct_predict[0]/real[0]/(correct_predict[0]/predict[0]+correct_predict[0]/real[0]))\n",
    "    print(\"sin pricision : \",correct_predict[1]/predict[1])\n",
    "    print(\"sin   recall  : \",correct_predict[1]/real[1])\n",
    "    print(\"sin F1 score  : \",f1_score)\n",
    "\n",
    "select = \"cuclaim\"#select cucntt or cuclaim\n",
    "if select==\"cucntt\":\n",
    "    train_dataset = train_cucntt_data\n",
    "    train_labels = train_cucntt_label\n",
    "    test_dataset = test_cucntt_data\n",
    "    test_labels = test_cucntt_label\n",
    "elif select==\"cuclaim\":\n",
    "    train_dataset = test_cuclaim_data\n",
    "    train_labels = train_cuclaim_label\n",
    "    test_dataset = test_cuclaim_data\n",
    "    test_labels = test_cuclaim_label\n",
    "else : \n",
    "    raise error\n",
    "print (select,' selected')"
   ]
  },
  {
   "cell_type": "code",
   "execution_count": 5,
   "metadata": {
    "collapsed": false
   },
   "outputs": [],
   "source": [
    "#setting py\n",
    "batch_size = 100\n",
    "beta = 0\n",
    "w_init_deviation = 0.5\n",
    "learning_rate_init=0.5\n",
    "l_rate_final_ratio=0.5\n",
    "layer2_nodes = 100\n",
    "keep_ratio=1\n",
    "\n",
    "\n",
    "step_size= train_dataset.shape[0]//batch_size\n",
    "#print('step_size = ',step_size)\n",
    "\n",
    "graph = tf.Graph()\n",
    "with graph.as_default():\n",
    "  tf_train_dataset = tf.placeholder(tf.float32,shape=(batch_size, train_dataset.shape[1]))\n",
    "  tf_train_labels = tf.placeholder(tf.float32, shape=(batch_size, num_labels))\n",
    "  tf_test_dataset = tf.constant(test_dataset)\n",
    "    \n",
    "  L1_weights = tf.Variable(\n",
    "    tf.truncated_normal([int(train_dataset.shape[1]), layer2_nodes], mean=0.0, stddev=w_init_deviation))\n",
    "  L1_biases =  tf.Variable(tf.zeros([layer2_nodes]))\n",
    "  L1_logits= tf.nn.dropout(tf.matmul(tf_train_dataset, L1_weights) + L1_biases,keep_ratio)\n",
    "    \n",
    "  L2_weights = tf.Variable(\n",
    "    tf.truncated_normal([layer2_nodes, num_labels], mean=0.0, stddev=w_init_deviation))\n",
    "  L2_biases = tf.Variable(tf.zeros([num_labels]))\n",
    "  L2_logits=tf.nn.dropout(tf.matmul(tf.nn.relu(L1_logits), L2_weights) + L2_biases,keep_ratio)\n",
    "    \n",
    "  loss = tf.reduce_mean(\n",
    "    tf.nn.softmax_cross_entropy_with_logits(L2_logits, tf_train_labels) + \n",
    "    beta*(tf.nn.l2_loss(L1_weights) + tf.nn.l2_loss(L2_weights)))\n",
    "    \n",
    "  global_step = tf.Variable(0, trainable=False)  \n",
    "  learning_rate=tf.train.exponential_decay(learning_rate_init, global_step, step_size, l_rate_final_ratio, staircase=False)\n",
    "  optimizer = tf.train.GradientDescentOptimizer(learning_rate).minimize(loss,global_step=global_step)\n",
    "    \n",
    "  train_prediction = tf.nn.softmax(L2_logits)\n",
    "  test_prediction =tf.nn.softmax(\n",
    "    tf.matmul(tf.nn.relu(tf.matmul(test_dataset, L1_weights) + L1_biases),L2_weights)+L2_biases)\n",
    "    \n",
    "  saver = tf.train.Saver({'w1' : L1_weights,\n",
    "                          'b1' : L1_biases,\n",
    "                          'w2' : L2_weights,\n",
    "                          'b2' : L2_biases,\n",
    "                         })"
   ]
  },
  {
   "cell_type": "code",
   "execution_count": 6,
   "metadata": {
    "collapsed": false,
    "scrolled": true
   },
   "outputs": [
    {
     "name": "stdout",
     "output_type": "stream",
     "text": [
      "Initialized\n",
      "Minibatch loss at step 0: 1.003242\n",
      "Minibatch accuracy: 55.0%\n",
      "Minibatch loss at step 19: 0.685438\n",
      "Minibatch accuracy: 57.0%\n",
      "Minibatch loss at step 38: 0.720819\n",
      "Minibatch accuracy: 42.0%\n",
      "Minibatch loss at step 57: 0.670294\n",
      "Minibatch accuracy: 60.0%\n",
      "Minibatch loss at step 76: 0.714904\n",
      "Minibatch accuracy: 54.0%\n",
      "Minibatch loss at step 95: 0.727978\n",
      "Minibatch accuracy: 44.0%\n",
      "\n",
      "by  cuclaim\n",
      "sin predict 5393\n",
      "sin correct predict :  2788.0\n",
      "sin real :  4851.0\n",
      "sin pricision :  0.516966437975\n",
      "sin   recall  :  0.574727\n",
      "sin F1 score  :  0.544318615986\n",
      "\n",
      "picklize finished\n",
      "trained_w12b12_cuclaim.pickle\n",
      "tr_cuclaim_dist ()\n",
      "w1 (56, 100)\n",
      "tr_cucntt_dist ()\n",
      "cucntt_cn (41,)\n",
      "b2 (2,)\n",
      "b1 (100,)\n",
      "cuclaim_cn (56,)\n",
      "w2 (100, 2)\n"
     ]
    }
   ],
   "source": [
    "with tf.Session(graph=graph) as session:\n",
    "  tf.initialize_all_variables().run()\n",
    "  print(\"Initialized\")\n",
    "  for step in range(step_size):\n",
    "    offset = (step * batch_size) % (train_labels.shape[0] - batch_size)\n",
    "    batch_data = train_dataset[offset:(offset + batch_size), :]\n",
    "    batch_labels = train_labels[offset:(offset + batch_size), :]\n",
    "    feed_dict = {tf_train_dataset : batch_data, tf_train_labels : batch_labels}\n",
    "    global_step=step\n",
    "    _,l, predictions = session.run(\n",
    "      [optimizer,loss, train_prediction], feed_dict=feed_dict)\n",
    "    if (step % (int(step_size*0.2)) == 0):\n",
    "      print(\"Minibatch loss at step %d: %f\" % (step, l))\n",
    "      print(\"Minibatch accuracy: %.1f%%\" % accuracy(predictions, batch_labels))\n",
    "  #print(\"Test accuracy: %.1f%%\" % accuracy(test_prediction.eval(), test_labels))\n",
    "  print(\"\\nby \",select)\n",
    "  f1Score(test_prediction.eval(), test_labels)\n",
    "  saver.save(session,'trained_w12b12_'+select,write_meta_graph=False)\n",
    "  w1 = session.run(L1_weights)\n",
    "  b1 = session.run(L1_biases)\n",
    "  w2 = session.run(L2_weights)\n",
    "  b2 = session.run(L2_biases)\n",
    "\n",
    "\n",
    "pickle_name='trained_w12b12_'+select+'.pickle'\n",
    "f=open(pickle_name,'w')\n",
    "save ={'w1' : w1,\n",
    "       'b1' : b1,\n",
    "       'w2' : w2,\n",
    "       'b2' : b2,\n",
    "       'cucntt_cn' : np.array(cucntt_column_names),   #numpy.array 안붙이면 shape 못쓰기도 하고 다음에 꺼내쓸때 오류날수있음\n",
    "       'cuclaim_cn' : np.array(cuclaim_column_names),\n",
    "       'tr_cucntt_dist' : np.array(train_cucntt_distri),\n",
    "       'tr_cuclaim_dist' : np.array(train_cuclaim_distri),\n",
    "      }\n",
    "pickle.dump(save,f,pickle.HIGHEST_PROTOCOL)\n",
    "f.close()\n",
    "\n",
    "#check pickle\n",
    "print(\"\\npicklize finished\")\n",
    "with open(pickle_name,'r') as f:\n",
    "    trainwb=pickle.load(f)\n",
    "    print(pickle_name)\n",
    "    for k,v in trainwb.items():\n",
    "        print(k,v.shape)\n",
    "\n",
    "\n"
   ]
  },
  {
   "cell_type": "code",
   "execution_count": 7,
   "metadata": {
    "collapsed": false
   },
   "outputs": [
    {
     "name": "stdout",
     "output_type": "stream",
     "text": [
      "target excel file exists. continue after deleting\n"
     ]
    },
    {
     "ename": "AttributeError",
     "evalue": "'NoneType' object has no attribute 'item'",
     "output_type": "error",
     "traceback": [
      "\u001b[0;31m---------------------------------------------------------------------------\u001b[0m",
      "\u001b[0;31mAttributeError\u001b[0m                            Traceback (most recent call last)",
      "\u001b[0;32m<ipython-input-7-a76c7af9393f>\u001b[0m in \u001b[0;36m<module>\u001b[0;34m()\u001b[0m\n\u001b[1;32m     38\u001b[0m         \u001b[0mos\u001b[0m\u001b[0;34m.\u001b[0m\u001b[0mremove\u001b[0m\u001b[0;34m(\u001b[0m\u001b[0mexcel_name\u001b[0m\u001b[0;34m)\u001b[0m\u001b[0;34m\u001b[0m\u001b[0m\n\u001b[1;32m     39\u001b[0m         \u001b[0;32mprint\u001b[0m\u001b[0;34m(\u001b[0m\u001b[0;34m'target excel file exists. continue after deleting'\u001b[0m\u001b[0;34m)\u001b[0m\u001b[0;34m\u001b[0m\u001b[0m\n\u001b[0;32m---> 40\u001b[0;31m \u001b[0msheetmake\u001b[0m\u001b[0;34m(\u001b[0m\u001b[0mpickleread\u001b[0m\u001b[0;34m(\u001b[0m\u001b[0mpickle_name\u001b[0m\u001b[0;34m)\u001b[0m\u001b[0;34m)\u001b[0m\u001b[0;34m\u001b[0m\u001b[0m\n\u001b[0m",
      "\u001b[0;32m<ipython-input-7-a76c7af9393f>\u001b[0m in \u001b[0;36msheetmake\u001b[0;34m(data)\u001b[0m\n\u001b[1;32m     22\u001b[0m         \u001b[0;32mfor\u001b[0m \u001b[0mn_col\u001b[0m \u001b[0;32min\u001b[0m \u001b[0mrange\u001b[0m\u001b[0;34m(\u001b[0m\u001b[0;36m0\u001b[0m\u001b[0;34m,\u001b[0m\u001b[0mdictdata\u001b[0m\u001b[0;34m.\u001b[0m\u001b[0mshape\u001b[0m\u001b[0;34m[\u001b[0m\u001b[0;36m1\u001b[0m\u001b[0;34m]\u001b[0m\u001b[0;34m)\u001b[0m\u001b[0;34m:\u001b[0m\u001b[0;34m\u001b[0m\u001b[0m\n\u001b[1;32m     23\u001b[0m             \u001b[0;32mfor\u001b[0m \u001b[0mn_row\u001b[0m \u001b[0;32min\u001b[0m \u001b[0mrange\u001b[0m\u001b[0;34m(\u001b[0m\u001b[0;36m0\u001b[0m\u001b[0;34m,\u001b[0m\u001b[0mdictdata\u001b[0m\u001b[0;34m.\u001b[0m\u001b[0mshape\u001b[0m\u001b[0;34m[\u001b[0m\u001b[0;36m0\u001b[0m\u001b[0;34m]\u001b[0m\u001b[0;34m)\u001b[0m\u001b[0;34m:\u001b[0m\u001b[0;34m\u001b[0m\u001b[0m\n\u001b[0;32m---> 24\u001b[0;31m                 \u001b[0minput_value\u001b[0m\u001b[0;34m=\u001b[0m\u001b[0mnumpy\u001b[0m\u001b[0;34m.\u001b[0m\u001b[0masscalar\u001b[0m\u001b[0;34m(\u001b[0m\u001b[0mdictdata\u001b[0m\u001b[0;34m[\u001b[0m\u001b[0mn_row\u001b[0m\u001b[0;34m,\u001b[0m\u001b[0mn_col\u001b[0m\u001b[0;34m]\u001b[0m\u001b[0;34m)\u001b[0m          \u001b[0;31m#python native 로 바꿔주는 코드. 이것과 아래줄 둘중하나 필수.\u001b[0m\u001b[0;34m\u001b[0m\u001b[0m\n\u001b[0m\u001b[1;32m     25\u001b[0m                 \u001b[0;31m#input_value=dictdata[n_row,n_col]                           #str 오류날때 asscalar 빼면 될때있음\u001b[0m\u001b[0;34m\u001b[0m\u001b[0;34m\u001b[0m\u001b[0m\n\u001b[1;32m     26\u001b[0m                 \u001b[0msheet\u001b[0m\u001b[0;34m.\u001b[0m\u001b[0mcell\u001b[0m\u001b[0;34m(\u001b[0m\u001b[0mrow\u001b[0m\u001b[0;34m=\u001b[0m\u001b[0mn_row\u001b[0m\u001b[0;34m+\u001b[0m\u001b[0;36m1\u001b[0m\u001b[0;34m,\u001b[0m\u001b[0mcolumn\u001b[0m\u001b[0;34m=\u001b[0m\u001b[0mn_col\u001b[0m\u001b[0;34m+\u001b[0m\u001b[0;36m1\u001b[0m\u001b[0;34m)\u001b[0m\u001b[0;34m.\u001b[0m\u001b[0mvalue\u001b[0m\u001b[0;34m=\u001b[0m\u001b[0minput_value\u001b[0m    \u001b[0;31m#엑셀에선 행,열 첫번호가 1\u001b[0m\u001b[0;34m\u001b[0m\u001b[0m\n",
      "\u001b[0;32m/usr/local/lib/python2.7/dist-packages/numpy/lib/type_check.pyc\u001b[0m in \u001b[0;36masscalar\u001b[0;34m(a)\u001b[0m\n\u001b[1;32m    451\u001b[0m \u001b[0;34m\u001b[0m\u001b[0m\n\u001b[1;32m    452\u001b[0m     \"\"\"\n\u001b[0;32m--> 453\u001b[0;31m     \u001b[0;32mreturn\u001b[0m \u001b[0ma\u001b[0m\u001b[0;34m.\u001b[0m\u001b[0mitem\u001b[0m\u001b[0;34m(\u001b[0m\u001b[0;34m)\u001b[0m\u001b[0;34m\u001b[0m\u001b[0m\n\u001b[0m\u001b[1;32m    454\u001b[0m \u001b[0;34m\u001b[0m\u001b[0m\n\u001b[1;32m    455\u001b[0m \u001b[0;31m#-----------------------------------------------------------------------------\u001b[0m\u001b[0;34m\u001b[0m\u001b[0;34m\u001b[0m\u001b[0m\n",
      "\u001b[0;31mAttributeError\u001b[0m: 'NoneType' object has no attribute 'item'"
     ]
    }
   ],
   "source": [
    "# -*- coding: utf-8 -*-\n",
    "import openpyxl\n",
    "import numpy\n",
    "import os\n",
    "\n",
    "pickle_name = 'trained_w12b12_cuclaim.pickle'\n",
    "\n",
    "#엑셀이름\n",
    "excel_name=pickle_name[:pickle_name.find(\".pickle\")]+'.xlsx'\n",
    "\n",
    "def pickleread(pickle_name):\n",
    "    with open(pickle_name,'rb') as f:\n",
    "        data=pickle.load(f)\n",
    "        return data\n",
    "\n",
    "def sheetmake(data):\n",
    "    global pickle_name,excel_name\n",
    "    book = openpyxl.Workbook()\n",
    "    for dictitle , dictdata in data.items():\n",
    "        dictdata=numpy.matrix(dictdata) #1차원 배열 있으면 shape 차원 하나라 오류나서.\n",
    "        sheet=book.create_sheet(title=dictitle)\n",
    "        for n_col in range(0,dictdata.shape[1]):\n",
    "            for n_row in range(0,dictdata.shape[0]):\n",
    "                input_value=numpy.asscalar(dictdata[n_row,n_col])          #python native 로 바꿔주는 코드. 이것과 아래줄 둘중하나 필수. \n",
    "                #input_value=dictdata[n_row,n_col]                           #str 오류날때 asscalar 빼면 될때있음\n",
    "                sheet.cell(row=n_row+1,column=n_col+1).value=input_value    #엑셀에선 행,열 첫번호가 1 \n",
    "            #sheet.column_dimensions[openpyxl.cell.get_column_letter(n_col+1)].width = 2.76 #컬럼 넓이 조절. 필요 없으면 빼기\n",
    "        print('making sheet : ',dictitle)\n",
    "    sheet = book.get_sheet_by_name('Sheet') #select sheet named Sheet\n",
    "    book.remove_sheet(sheet) #delete that sheet\n",
    "    print('saving data to excel...')\n",
    "    book.save(excel_name)\n",
    "    print ('finished, file saved : ',excel_name)\n",
    "\n",
    "\n",
    "\n",
    "if os.path.isfile(excel_name): #이미 파일이 있으면 삭제함 #엑셀파일이 열려있으면 삭제도 못하고 오류남. \n",
    "\tos.remove(excel_name)\n",
    "\tprint('target excel file exists. continue after deleting')\n",
    "sheetmake(pickleread(pickle_name))\n"
   ]
  },
  {
   "cell_type": "code",
   "execution_count": null,
   "metadata": {
    "collapsed": true
   },
   "outputs": [],
   "source": []
  }
 ],
 "metadata": {
  "colab": {
   "default_view": {},
   "name": "3_regularization.ipynb",
   "provenance": [],
   "version": "0.3.2",
   "views": {}
  },
  "kernelspec": {
   "display_name": "Python 2",
   "language": "python",
   "name": "python2"
  },
  "language_info": {
   "codemirror_mode": {
    "name": "ipython",
    "version": 2
   },
   "file_extension": ".py",
   "mimetype": "text/x-python",
   "name": "python",
   "nbconvert_exporter": "python",
   "pygments_lexer": "ipython2",
   "version": "2.7.12"
  }
 },
 "nbformat": 4,
 "nbformat_minor": 0
}
