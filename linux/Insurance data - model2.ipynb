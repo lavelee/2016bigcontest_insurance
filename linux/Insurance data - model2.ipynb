{
 "cells": [
  {
   "cell_type": "markdown",
   "metadata": {},
   "source": [
    "        'test_cucntt_label' : test_cucntt_label,\n",
    "        'test_cucntt_data' : test_cucntt_data,\n",
    "        'train_cucntt_label' : train_cucntt_label,\n",
    "        'train_cucntt_data' : train_cucntt_data,\n",
    "        'test_cuclaim_label' : test_cuclaim_label,\n",
    "        'test_cuclaim_data' : test_cuclaim_data,\n",
    "        'train_cuclaim_label' : train_cuclaim_label,\n",
    "        'train_cuclaim_data' : train_cuclaim_data"
   ]
  },
  {
   "cell_type": "code",
   "execution_count": 1,
   "metadata": {
    "cellView": "both",
    "colab": {
     "autoexec": {
      "startup": false,
      "wait_interval": 0
     }
    },
    "colab_type": "code",
    "collapsed": true,
    "id": "JLpLa8Jt7Vu4"
   },
   "outputs": [],
   "source": [
    "# These are all the modules we'll be using later. Make sure you can import them\n",
    "# before proceeding further.\n",
    "from __future__ import print_function\n",
    "import numpy as np\n",
    "import tensorflow as tf\n",
    "from six.moves import cPickle as pickle"
   ]
  },
  {
   "cell_type": "markdown",
   "metadata": {
    "colab_type": "text",
    "id": "1HrCK6e17WzV"
   },
   "source": [
    "First reload the data we generated in _notmist.ipynb_."
   ]
  },
  {
   "cell_type": "code",
   "execution_count": 2,
   "metadata": {
    "cellView": "both",
    "colab": {
     "autoexec": {
      "startup": false,
      "wait_interval": 0
     },
     "output_extras": [
      {
       "item_id": 1
      }
     ]
    },
    "colab_type": "code",
    "collapsed": false,
    "executionInfo": {
     "elapsed": 11777,
     "status": "ok",
     "timestamp": 1449849322348,
     "user": {
      "color": "",
      "displayName": "",
      "isAnonymous": false,
      "isMe": true,
      "permissionId": "",
      "photoUrl": "",
      "sessionId": "0",
      "userId": ""
     },
     "user_tz": 480
    },
    "id": "y3-cj1bpmuxc",
    "outputId": "e03576f1-ebbe-4838-c388-f1777bcc9873"
   },
   "outputs": [
    {
     "name": "stdout",
     "output_type": "stream",
     "text": [
      "Test set :  (21954,) (21954, 34)\n",
      "Training set :  (87819,) (87819, 34)\n"
     ]
    }
   ],
   "source": [
    "#pickle_file = 'cucntt_cuclaim_null_randomfix.pickle'\n",
    "#pickle_file = 'rand01 outdel0 dummy0 tryno00 delcol-CUST.MAX_PRM.pickle'\n",
    "#pickle_file = 'rand01 outdel0 dummy0 tryno00 delcol-CUST.MINCRDT.pickle'\n",
    "#pickle_file = 'rand01 outdel0 dummy0 tryno00 delcol-CUST.WEDD_YN.pickle'\n",
    "pickle_file = 'clcucntt_rand01.pickle'\n",
    "\n",
    "with open(pickle_file, 'rb') as f:\n",
    "  save = pickle.load(f)\n",
    "  test_labels = save['test_cuclaim_label']\n",
    "  test_dataset = save['test_cuclaim_data']\n",
    "  train_labels = save['train_cuclaim_label']\n",
    "  train_dataset = save['train_cuclaim_data']\n",
    "  column_names = save['cuclaim_column_names']\n",
    "  train_distri = save['train_cuclaim_distri']\n",
    "  \n",
    "\n",
    "del save  # hint to help gc free up memory\n",
    "print('Test set : ', test_labels.shape, test_dataset.shape)\n",
    "print('Training set : ', train_labels.shape, train_dataset.shape)\n"
   ]
  },
  {
   "cell_type": "markdown",
   "metadata": {
    "colab_type": "text",
    "id": "L7aHrm6nGDMB"
   },
   "source": [
    "one hot encoding"
   ]
  },
  {
   "cell_type": "code",
   "execution_count": 3,
   "metadata": {
    "cellView": "both",
    "colab": {
     "autoexec": {
      "startup": false,
      "wait_interval": 0
     },
     "output_extras": [
      {
       "item_id": 1
      }
     ]
    },
    "colab_type": "code",
    "collapsed": false,
    "executionInfo": {
     "elapsed": 11728,
     "status": "ok",
     "timestamp": 1449849322356,
     "user": {
      "color": "",
      "displayName": "",
      "isAnonymous": false,
      "isMe": true,
      "permissionId": "",
      "photoUrl": "",
      "sessionId": "0",
      "userId": ""
     },
     "user_tz": 480
    },
    "id": "IRSyYiIIGIzS",
    "outputId": "3f8996ee-3574-4f44-c953-5c8a04636582"
   },
   "outputs": [
    {
     "name": "stdout",
     "output_type": "stream",
     "text": [
      "Test set :  (21954, 2) (21954, 34)\n",
      "Training set :  (87819, 2) (87819, 34)\n",
      "[[-0.5         0.41666669 -0.5        -0.13802558  0.10554844 -0.14561588\n",
      "   0.04545456 -0.5         0.4222942  -0.5        -0.375      -0.5\n",
      "  -0.14570832 -0.13828677  0.25763184 -0.44463667 -0.42185313 -0.49993059\n",
      "   0.3125     -0.38235295 -0.49985841 -0.13724211 -0.4971064  -0.4971     -0.5\n",
      "  -0.49885562 -0.5        -0.4932743  -0.47429338 -0.47209412  0.         -0.5\n",
      "  -0.02352676 -0.5       ]\n",
      " [-0.2142857   0.125      -0.5         0.11869937  0.18606508  0.11717117\n",
      "   0.04545456  0.5        -0.07539314 -0.44354838 -0.375      -0.5\n",
      "   0.11701018  0.11791593 -0.07539314 -0.48961937 -0.49685976 -0.49994227\n",
      "  -0.375      -0.5        -0.49999037  0.11896056 -0.49980044 -0.4998     -0.5\n",
      "  -0.45075575 -0.46321732 -0.48249048 -0.48031601 -0.5         0.\n",
      "  -0.47986805 -0.02352676 -0.5       ]\n",
      " [ 0.0714286  -0.41666666  0.5         0.28871769  0.36017221  0.2758351\n",
      "   0.04545456  0.5        -0.06244218 -0.49193549 -0.25       -0.5\n",
      "   0.27563268  0.27539825 -0.06244218 -0.48961937 -0.49587604 -0.49995226\n",
      "   0.25       -0.38235295 -0.49986392  0.28897887 -0.49986362 -0.49986333\n",
      "   0.5        -0.4975459  -0.49609619 -0.5        -0.49836051 -0.49970904\n",
      "  -0.25       -0.49623701  0.34029323 -0.5       ]\n",
      " [-0.35714287  0.29166669 -0.5         0.07534605  0.09948981  0.0709812\n",
      "   0.5         0.5        -0.21692878 -0.5        -0.375      -0.5\n",
      "   0.07083225  0.07508487 -0.21692878 -0.46712804 -0.49347356 -0.49995327\n",
      "  -0.25       -0.5        -0.49979737  0.07874119 -0.49368066 -0.49366668\n",
      "  -0.5        -0.42381793 -0.48754129 -0.49580613 -0.44735751 -0.5         0.\n",
      "  -0.5        -0.02352676 -0.5       ]\n",
      " [ 0.0714286  -0.41666666  0.5         0.217942    0.31999362  0.20537579\n",
      "   0.5         0.5        -0.4028677   0.25806451  0.         -0.5\n",
      "   0.26232713 -0.40598068 -0.4028677  -0.5        -0.32145965 -0.49993154\n",
      "   0.         -0.38235295 -0.49979472  0.22316533 -0.49667102 -0.49666667\n",
      "  -0.5        -0.48453867 -0.44288093 -0.5        -0.48216796 -0.5         0.\n",
      "  -0.48522723 -0.02352676 -0.5       ]\n",
      " [ 0.0714286  -0.45833334  0.5         0.2286498   0.29894769  0.22781837\n",
      "   0.5        -0.5         0.43061978 -0.5        -0.125      -0.5\n",
      "   0.35729194 -0.00744319  0.20860314 -0.5        -0.10820627 -0.49999985\n",
      "   0.         -0.5        -0.49977872  0.23413426 -0.46504009 -0.465      -0.5\n",
      "  -0.45779857 -0.5        -0.5        -0.49847847 -0.48306113  0.\n",
      "  -0.47365913 -0.02352676 -0.5       ]\n",
      " [ 0.5         0.45833331 -0.5         0.06307131  0.19355869 -0.00156575\n",
      "   0.04545456  0.          0.36586493 -0.5        -0.375      -0.5\n",
      "  -0.00169581  0.00352573  0.20582795 -0.46020761 -0.49782452 -0.499953\n",
      "  -0.25       -0.38235295 -0.49989754  0.06385481 -0.498337   -0.49833333\n",
      "  -0.5        -0.5        -0.48213688 -0.5        -0.46571082 -0.48750401\n",
      "   0.         -0.48684636 -0.02352676 -0.5       ]\n",
      " [-0.5         0.41666669  0.5         0.44489425  0.41262758  0.35699373\n",
      "   0.04545456  0.5        -0.1438483  -0.47580644 -0.25       -0.35714287\n",
      "   0.35677016  0.35662055 -0.1438483  -0.49826989 -0.49939466 -0.49988317\n",
      "   0.4375     -0.2647059  -0.49983066  0.44489425 -0.49999946 -0.49999946\n",
      "   0.5        -0.4989875  -0.49839076 -0.5        -0.5        -0.49971282\n",
      "  -0.25       -0.49399668 -0.02352676 -0.5       ]\n",
      " [ 0.21428573 -0.45833334  0.5         0.45011753  0.35857779  0.39561588\n",
      "   0.04545456  0.5        -0.44079557 -0.32258064 -0.25       -0.5\n",
      "   0.39538223  0.44384956 -0.44079557 -0.49307957 -0.38884264 -0.49998116\n",
      "  -0.4375     -0.5        -0.49988711  0.45011753 -0.49968114 -0.49968043\n",
      "   0.5        -0.49275947 -0.49808922 -0.5        -0.49845803 -0.499704\n",
      "  -0.25       -0.49169031  0.02730852 -0.5       ]\n",
      " [ 0.0714286  -0.45833334 -0.5        -0.16936538  0.03364158 -0.17275575\n",
      "   0.04545456  0.5        -0.41211841 -0.49193549 -0.375      -0.5\n",
      "  -0.1728411  -0.16936538 -0.41211841 -0.47058824 -0.4969165  -0.49998656\n",
      "  -0.0625     -0.5        -0.49991789 -0.16832072 -0.49547532 -0.49546668\n",
      "  -0.5        -0.45860764 -0.44373176 -0.47910988 -0.48045853 -0.5        -0.25\n",
      "  -0.45206633 -0.02352676  0.5       ]]\n",
      "[[ 1.  0.]\n",
      " [ 1.  0.]\n",
      " [ 1.  0.]\n",
      " [ 0.  1.]\n",
      " [ 1.  0.]\n",
      " [ 1.  0.]\n",
      " [ 1.  0.]\n",
      " [ 1.  0.]\n",
      " [ 1.  0.]\n",
      " [ 1.  0.]\n",
      " [ 0.  1.]\n",
      " [ 1.  0.]\n",
      " [ 1.  0.]\n",
      " [ 0.  1.]\n",
      " [ 1.  0.]\n",
      " [ 1.  0.]\n",
      " [ 1.  0.]\n",
      " [ 1.  0.]\n",
      " [ 1.  0.]\n",
      " [ 1.  0.]\n",
      " [ 1.  0.]\n",
      " [ 0.  1.]\n",
      " [ 1.  0.]\n",
      " [ 0.  1.]\n",
      " [ 1.  0.]\n",
      " [ 1.  0.]\n",
      " [ 1.  0.]\n",
      " [ 0.  1.]\n",
      " [ 1.  0.]\n",
      " [ 0.  1.]\n",
      " [ 1.  0.]\n",
      " [ 0.  1.]\n",
      " [ 1.  0.]\n",
      " [ 0.  1.]\n",
      " [ 1.  0.]\n",
      " [ 1.  0.]\n",
      " [ 0.  1.]\n",
      " [ 1.  0.]\n",
      " [ 0.  1.]\n",
      " [ 1.  0.]\n",
      " [ 0.  1.]\n",
      " [ 1.  0.]\n",
      " [ 1.  0.]\n",
      " [ 1.  0.]\n",
      " [ 1.  0.]\n",
      " [ 0.  1.]\n",
      " [ 0.  1.]\n",
      " [ 1.  0.]\n",
      " [ 1.  0.]\n",
      " [ 1.  0.]\n",
      " [ 0.  1.]\n",
      " [ 0.  1.]\n",
      " [ 1.  0.]\n",
      " [ 1.  0.]\n",
      " [ 1.  0.]\n",
      " [ 0.  1.]\n",
      " [ 1.  0.]\n",
      " [ 1.  0.]\n",
      " [ 1.  0.]\n",
      " [ 1.  0.]\n",
      " [ 0.  1.]\n",
      " [ 0.  1.]\n",
      " [ 1.  0.]\n",
      " [ 1.  0.]\n",
      " [ 1.  0.]\n",
      " [ 0.  1.]\n",
      " [ 0.  1.]\n",
      " [ 1.  0.]\n",
      " [ 0.  1.]\n",
      " [ 1.  0.]\n",
      " [ 1.  0.]\n",
      " [ 1.  0.]\n",
      " [ 1.  0.]\n",
      " [ 1.  0.]\n",
      " [ 1.  0.]\n",
      " [ 0.  1.]\n",
      " [ 1.  0.]\n",
      " [ 1.  0.]\n",
      " [ 0.  1.]\n",
      " [ 1.  0.]\n",
      " [ 0.  1.]\n",
      " [ 1.  0.]\n",
      " [ 1.  0.]\n",
      " [ 1.  0.]\n",
      " [ 1.  0.]\n",
      " [ 1.  0.]\n",
      " [ 1.  0.]\n",
      " [ 1.  0.]\n",
      " [ 1.  0.]\n",
      " [ 1.  0.]\n",
      " [ 1.  0.]\n",
      " [ 1.  0.]\n",
      " [ 0.  1.]\n",
      " [ 1.  0.]\n",
      " [ 0.  1.]\n",
      " [ 1.  0.]\n",
      " [ 0.  1.]\n",
      " [ 0.  1.]\n",
      " [ 1.  0.]\n",
      " [ 1.  0.]]\n"
     ]
    }
   ],
   "source": [
    "num_labels = 2\n",
    "\n",
    "def reformat(labels):\n",
    "  one_hot_encode = (np.arange(num_labels) == labels[:,None]).astype(np.float32)\n",
    "  return one_hot_encode \n",
    "\n",
    "test_labels=reformat(test_labels)\n",
    "train_labels=reformat(train_labels)\n",
    "\n",
    "print('Test set : ', test_labels.shape, test_dataset.shape)\n",
    "print('Training set : ', train_labels.shape, train_dataset.shape)\n",
    "print(train_dataset[:10])\n",
    "print(train_labels[:100])"
   ]
  },
  {
   "cell_type": "code",
   "execution_count": 4,
   "metadata": {
    "cellView": "both",
    "colab": {
     "autoexec": {
      "startup": false,
      "wait_interval": 0
     }
    },
    "colab_type": "code",
    "collapsed": false,
    "id": "RajPLaL_ZW6w"
   },
   "outputs": [],
   "source": [
    "def accuracy(predictions, labels):\n",
    "  return (100.0 * np.sum(np.argmax(predictions, 1) == np.argmax(labels, 1))\n",
    "          / predictions.shape[0])\n",
    "\n",
    "def f1Score(predictions, labels):\n",
    "    print ('predictions_raw=',predictions)\n",
    "    predictions = np.array(predictions==predictions.max(axis=1)[:,None],dtype='int')\n",
    "    predict = np.sum(predictions,0)\n",
    "    real = np.sum(labels,0)\n",
    "    correct_predict = np.sum(labels*(np.argmax(predictions, 1) == np.argmax(labels, 1))[:,None],0)\n",
    "    precision = correct_predict[1]/predict[1]\n",
    "    recall = correct_predict[1]/real[1]\n",
    "    f1_score=2*precision*recall/(precision+recall)\n",
    "    print ('predictions =',predictions)\n",
    "    print ('predict =',predict)\n",
    "    print ('real =',real)\n",
    "    print ('correct_predict =',correct_predict)\n",
    "    #여기부터 결과. 위는 디버깅용\n",
    "    #print(\"\\nsin predict\",predict[1])\n",
    "    #print(\"sin correct predict : \",correct_predict[1])\n",
    "    #print(\"sin real : \",real[1])\n",
    "    #print(\"\\nnot_sin pricision : \",correct_predict[0]/predict[0])\n",
    "    #print(\"not_sin   recall  : \",correct_predict[0]/real[0])\n",
    "    #print(\"not_sin F1 score  : \",2*correct_predict[0]/predict[0]*correct_predict[0]/real[0]/(correct_predict[0]/predict[0]+correct_predict[0]/real[0]))\n",
    "    print(\"sin pricision : \",precision)\n",
    "    print(\"sin   recall  : \",recall)\n",
    "    print(\"sin F1 score  : \",f1_score)"
   ]
  },
  {
   "cell_type": "code",
   "execution_count": 5,
   "metadata": {
    "collapsed": false
   },
   "outputs": [],
   "source": [
    "#setting py\n",
    "batch_size = 100\n",
    "w_init_deviation = 0.5\n",
    "learning_rate=0.5\n",
    "layer2_nodes = 10\n",
    "keep_ratio=1\n",
    "\n",
    "\n",
    "step_size= train_dataset.shape[0]//batch_size\n",
    "#print('step_size = ',step_size)\n",
    "\n",
    "graph = tf.Graph()\n",
    "with graph.as_default():\n",
    "  tf_train_dataset = tf.placeholder(tf.float32,shape=(batch_size, train_dataset.shape[1]))\n",
    "  tf_train_labels = tf.placeholder(tf.float32, shape=(batch_size, num_labels))\n",
    "  tf_test_dataset = tf.constant(test_dataset)\n",
    "    \n",
    "  L1_weights = tf.Variable(\n",
    "    tf.truncated_normal([int(train_dataset.shape[1]), layer2_nodes], mean=0.0, stddev=w_init_deviation))\n",
    "  L1_biases =  tf.Variable(tf.zeros([layer2_nodes]))\n",
    "  L1_logits= tf.nn.dropout(tf.matmul(tf_train_dataset, L1_weights) + L1_biases,keep_ratio)\n",
    "    \n",
    "  L2_weights = tf.Variable(\n",
    "    tf.truncated_normal([layer2_nodes, num_labels], mean=0.0, stddev=w_init_deviation))\n",
    "  L2_biases = tf.Variable(tf.zeros([num_labels]))\n",
    "  L2_logits=tf.matmul(tf.nn.relu(L1_logits), L2_weights) + L2_biases\n",
    "    \n",
    "  loss = tf.reduce_mean(tf.nn.softmax_cross_entropy_with_logits(L2_logits, tf_train_labels))\n",
    "    \n",
    "  optimizer = tf.train.GradientDescentOptimizer(learning_rate).minimize(loss)\n",
    "    \n",
    "  train_prediction = tf.nn.softmax(L2_logits)\n",
    "  test_prediction =tf.nn.softmax(\n",
    "    tf.matmul(tf.nn.relu(tf.matmul(test_dataset, L1_weights) + L1_biases),L2_weights)+L2_biases)\n",
    "    \n",
    "  saver = tf.train.Saver({'w1' : L1_weights,\n",
    "                          'b1' : L1_biases,\n",
    "                          'w2' : L2_weights,\n",
    "                          'b2' : L2_biases,\n",
    "                         })"
   ]
  },
  {
   "cell_type": "code",
   "execution_count": 6,
   "metadata": {
    "collapsed": false,
    "scrolled": true
   },
   "outputs": [
    {
     "name": "stdout",
     "output_type": "stream",
     "text": [
      "Initialized\n",
      "Minibatch loss at step 0: 0.807377\n",
      "Minibatch accuracy: 35.0%\n",
      "Minibatch loss at step 175: 0.441557\n",
      "Minibatch accuracy: 79.0%\n",
      "Minibatch loss at step 350: 0.492623\n",
      "Minibatch accuracy: 80.0%\n",
      "Minibatch loss at step 525: 0.486443\n",
      "Minibatch accuracy: 79.0%\n",
      "Minibatch loss at step 700: 0.404543\n",
      "Minibatch accuracy: 81.0%\n",
      "Minibatch loss at step 875: 0.420156\n",
      "Minibatch accuracy: 80.0%\n",
      "predictions_raw= [[ 0.88545597  0.11454404]\n",
      " [ 0.9454242   0.05457583]\n",
      " [ 0.69478458  0.30521542]\n",
      " ..., \n",
      " [ 0.59985596  0.40014401]\n",
      " [ 0.936921    0.06307898]\n",
      " [ 0.9403103   0.05968973]]\n",
      "predictions = [[1 0]\n",
      " [1 0]\n",
      " [1 0]\n",
      " ..., \n",
      " [1 0]\n",
      " [1 0]\n",
      " [1 0]]\n",
      "predict = [19343  2611]\n",
      "real = [ 17012.   4942.]\n",
      "correct_predict = [ 16036.   1635.]\n",
      "sin pricision :  0.626196859441\n",
      "sin   recall  :  0.330838\n",
      "sin F1 score  :  0.432940561188\n",
      "\n",
      "picklize finished\n",
      "wbsave frompk clcucntt_rand01.pickle\n",
      "tr_dist (34, 22)\n",
      "col_names (34,)\n",
      "b2 (2,)\n",
      "b1 (10,)\n",
      "w1 (34, 10)\n",
      "w2 (10, 2)\n"
     ]
    }
   ],
   "source": [
    "with tf.Session(graph=graph) as session:\n",
    "  tf.initialize_all_variables().run()\n",
    "  print(\"Initialized\")\n",
    "  for step in range(step_size):\n",
    "    offset = (step * batch_size) % (train_labels.shape[0] - batch_size)\n",
    "    batch_data = train_dataset[offset:(offset + batch_size), :]\n",
    "    batch_labels = train_labels[offset:(offset + batch_size), :]\n",
    "    feed_dict = {tf_train_dataset : batch_data, tf_train_labels : batch_labels}\n",
    "    global_step=step\n",
    "    _,l, predictions = session.run(\n",
    "      [optimizer,loss, train_prediction], feed_dict=feed_dict)\n",
    "    if (step % (int(step_size*0.2)) == 0):\n",
    "      print(\"Minibatch loss at step %d: %f\" % (step, l))\n",
    "      print(\"Minibatch accuracy: %.1f%%\" % accuracy(predictions, batch_labels))\n",
    "  #print(\"Test accuracy: %.1f%%\" % accuracy(test_prediction.eval(), test_labels))\n",
    "  f1Score(test_prediction.eval(), test_labels)\n",
    "  saver.save(session,'tensorflow_wbsave frompk '+pickle_file[:-7],write_meta_graph=False)\n",
    "  w1 = session.run(L1_weights)\n",
    "  b1 = session.run(L1_biases)\n",
    "  w2 = session.run(L2_weights)\n",
    "  b2 = session.run(L2_biases)\n",
    "\n",
    "  #print('test_prediction = 'session.run(test_prediction))#test 결과체크\n",
    "\n",
    "\n",
    "pickle_name='wbsave frompk '+pickle_file\n",
    "f=open(pickle_name,'w')\n",
    "save ={'w1' : w1,\n",
    "       'b1' : b1,\n",
    "       'w2' : w2,\n",
    "       'b2' : b2,\n",
    "       'col_names' : np.array(column_names),#numpy.array 안붙이면 shape 못쓰기도 하고 다음에 꺼내쓸때 오류날수있음\n",
    "       'tr_dist' : np.array(train_distri),\n",
    "      }\n",
    "pickle.dump(save,f,pickle.HIGHEST_PROTOCOL)\n",
    "f.close()\n",
    "\n",
    "#check pickle\n",
    "print(\"\\npicklize finished\")\n",
    "with open(pickle_name,'r') as f:\n",
    "    trainwb=pickle.load(f)\n",
    "    print(pickle_name)\n",
    "    for k,v in trainwb.items():\n",
    "        print(k,v.shape)\n",
    "\n",
    "\n"
   ]
  },
  {
   "cell_type": "code",
   "execution_count": 7,
   "metadata": {
    "collapsed": false
   },
   "outputs": [
    {
     "name": "stdout",
     "output_type": "stream",
     "text": [
      "target excel file exists. continue after deleting\n",
      "making sheet :  tr_dist\n",
      "making sheet :  col_names\n",
      "making sheet :  b2\n",
      "making sheet :  b1\n",
      "making sheet :  w1\n",
      "making sheet :  w2\n",
      "saving data to excel...\n",
      "finished, file saved :  wbsave frompk clcucntt_rand01.xlsx\n"
     ]
    }
   ],
   "source": [
    "# -*- coding: utf-8 -*-\n",
    "import openpyxl\n",
    "import os\n",
    "\n",
    "#엑셀이름\n",
    "excel_name=pickle_name[:pickle_name.find(\".pickle\")]+'.xlsx'\n",
    "\n",
    "def pickleread(pickle_name):\n",
    "    with open(pickle_name,'rb') as f:\n",
    "        data=pickle.load(f)\n",
    "        return data\n",
    "\n",
    "def sheetmake(data):\n",
    "    global pickle_name,excel_name\n",
    "    book = openpyxl.Workbook()\n",
    "    for dictitle , dictdata in data.items():\n",
    "        dictdata=np.matrix(dictdata) #1차원 배열 있으면 shape 차원 하나라 오류나서.\n",
    "        sheet=book.create_sheet(title=dictitle)\n",
    "        for n_col in range(0,dictdata.shape[1]):\n",
    "            for n_row in range(0,dictdata.shape[0]):\n",
    "                input_value=np.asscalar(dictdata[n_row,n_col])          #python native 로 바꿔주는 코드. 이것과 아래줄 둘중하나 필수. \n",
    "                #input_value=dictdata[n_row,n_col]                           #str 오류날때 asscalar 빼면 될때있음\n",
    "                sheet.cell(row=n_row+1,column=n_col+1).value=input_value    #엑셀에선 행,열 첫번호가 1 \n",
    "            #sheet.column_dimensions[openpyxl.cell.get_column_letter(n_col+1)].width = 2.76 #컬럼 넓이 조절. 필요 없으면 빼기\n",
    "        print('making sheet : ',dictitle)\n",
    "    sheet = book.get_sheet_by_name('Sheet') #select sheet named Sheet\n",
    "    book.remove_sheet(sheet) #delete that sheet\n",
    "    print('saving data to excel...')\n",
    "    book.save(excel_name)\n",
    "    print ('finished, file saved : ',excel_name)\n",
    "\n",
    "\n",
    "\n",
    "if os.path.isfile(excel_name): #이미 파일이 있으면 삭제함 #엑셀파일이 열려있으면 삭제도 못하고 오류남. \n",
    "\tos.remove(excel_name)\n",
    "\tprint('target excel file exists. continue after deleting')\n",
    "sheetmake(pickleread(pickle_name))\n"
   ]
  },
  {
   "cell_type": "code",
   "execution_count": null,
   "metadata": {
    "collapsed": true
   },
   "outputs": [],
   "source": []
  }
 ],
 "metadata": {
  "colab": {
   "default_view": {},
   "name": "3_regularization.ipynb",
   "provenance": [],
   "version": "0.3.2",
   "views": {}
  },
  "kernelspec": {
   "display_name": "Python 2",
   "language": "python",
   "name": "python2"
  },
  "language_info": {
   "codemirror_mode": {
    "name": "ipython",
    "version": 2
   },
   "file_extension": ".py",
   "mimetype": "text/x-python",
   "name": "python",
   "nbconvert_exporter": "python",
   "pygments_lexer": "ipython2",
   "version": "2.7.12"
  }
 },
 "nbformat": 4,
 "nbformat_minor": 0
}
