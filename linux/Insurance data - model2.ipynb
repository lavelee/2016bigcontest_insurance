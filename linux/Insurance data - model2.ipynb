{
 "cells": [
  {
   "cell_type": "code",
   "execution_count": null,
   "metadata": {
    "cellView": "both",
    "colab": {
     "autoexec": {
      "startup": false,
      "wait_interval": 0
     }
    },
    "colab_type": "code",
    "collapsed": true,
    "id": "JLpLa8Jt7Vu4"
   },
   "outputs": [],
   "source": [
    "# These are all the modules we'll be using later. Make sure you can import them\n",
    "# before proceeding further.\n",
    "from __future__ import print_function\n",
    "import numpy as np\n",
    "import tensorflow as tf\n",
    "from six.moves import cPickle as pickle"
   ]
  },
  {
   "cell_type": "markdown",
   "metadata": {
    "colab_type": "text",
    "id": "1HrCK6e17WzV"
   },
   "source": [
    "First reload the data we generated in _notmist.ipynb_."
   ]
  },
  {
   "cell_type": "code",
   "execution_count": null,
   "metadata": {
    "cellView": "both",
    "colab": {
     "autoexec": {
      "startup": false,
      "wait_interval": 0
     },
     "output_extras": [
      {
       "item_id": 1
      }
     ]
    },
    "colab_type": "code",
    "collapsed": false,
    "executionInfo": {
     "elapsed": 11777,
     "status": "ok",
     "timestamp": 1449849322348,
     "user": {
      "color": "",
      "displayName": "",
      "isAnonymous": false,
      "isMe": true,
      "permissionId": "",
      "photoUrl": "",
      "sessionId": "0",
      "userId": ""
     },
     "user_tz": 480
    },
    "id": "y3-cj1bpmuxc",
    "outputId": "e03576f1-ebbe-4838-c388-f1777bcc9873"
   },
   "outputs": [],
   "source": [
    "#pickle_file = 'cucntt_cuclaim_null_randomfix.pickle'\n",
    "#pickle_file = 'rand01 outdel0 dummy0 tryno00 delcol-CUST.MAX_PRM.pickle'\n",
    "#pickle_file = 'rand01 outdel0 dummy0 tryno00 delcol-CUST.MINCRDT.pickle'\n",
    "#pickle_file = 'rand01 outdel0 dummy0 tryno00 delcol-CUST.WEDD_YN.pickle'\n",
    "#pickle_file = 'clcucntt_rand01.pickle'\n",
    "pickle_file = 'clcntt_randfix01.pickle'\n",
    "\n",
    "with open(pickle_file, 'rb') as f:\n",
    "  save = pickle.load(f)\n",
    "  test_labels = save['test_label']\n",
    "  test_dataset = save['test_data']\n",
    "  train_labels = save['train_label']\n",
    "  train_dataset = save['train_data']\n",
    "  column_names = save['col_names']\n",
    "  train_distri = save['train_distri']\n",
    "  \n",
    "\n",
    "del save  # hint to help gc free up memory\n",
    "print('Test set : ', test_labels.shape, test_dataset.shape)\n",
    "print('Training set : ', train_labels.shape, train_dataset.shape)\n"
   ]
  },
  {
   "cell_type": "markdown",
   "metadata": {
    "colab_type": "text",
    "id": "L7aHrm6nGDMB"
   },
   "source": [
    "one hot encoding"
   ]
  },
  {
   "cell_type": "code",
   "execution_count": null,
   "metadata": {
    "cellView": "both",
    "colab": {
     "autoexec": {
      "startup": false,
      "wait_interval": 0
     },
     "output_extras": [
      {
       "item_id": 1
      }
     ]
    },
    "colab_type": "code",
    "collapsed": false,
    "executionInfo": {
     "elapsed": 11728,
     "status": "ok",
     "timestamp": 1449849322356,
     "user": {
      "color": "",
      "displayName": "",
      "isAnonymous": false,
      "isMe": true,
      "permissionId": "",
      "photoUrl": "",
      "sessionId": "0",
      "userId": ""
     },
     "user_tz": 480
    },
    "id": "IRSyYiIIGIzS",
    "outputId": "3f8996ee-3574-4f44-c953-5c8a04636582"
   },
   "outputs": [],
   "source": [
    "num_labels = 2\n",
    "\n",
    "def reformat(labels):\n",
    "  one_hot_encode = (np.arange(num_labels) == labels[:,None]).astype(np.float32)\n",
    "  return one_hot_encode \n",
    "\n",
    "test_labels=reformat(test_labels)\n",
    "train_labels=reformat(train_labels)\n",
    "\n",
    "print('Test set : ', test_labels.shape, test_dataset.shape)\n",
    "print('Training set : ', train_labels.shape, train_dataset.shape)\n",
    "print(train_dataset[:10])\n",
    "print(train_labels[:100])"
   ]
  },
  {
   "cell_type": "code",
   "execution_count": null,
   "metadata": {
    "cellView": "both",
    "colab": {
     "autoexec": {
      "startup": false,
      "wait_interval": 0
     }
    },
    "colab_type": "code",
    "collapsed": false,
    "id": "RajPLaL_ZW6w"
   },
   "outputs": [],
   "source": [
    "def accuracy(predictions, labels):\n",
    "  return (100.0 * np.sum(np.argmax(predictions, 1) == np.argmax(labels, 1))\n",
    "          / predictions.shape[0])\n",
    "\n",
    "def f1Score(predictions, labels):\n",
    "    print ('predictions_raw=',predictions)\n",
    "    predictions = np.array(predictions==predictions.max(axis=1)[:,None],dtype='int')\n",
    "    predict = np.sum(predictions,0)\n",
    "    real = np.sum(labels,0)\n",
    "    correct_predict = np.sum(labels*(np.argmax(predictions, 1) == np.argmax(labels, 1))[:,None],0)\n",
    "    precision = correct_predict[1]/predict[1]\n",
    "    recall = correct_predict[1]/real[1]\n",
    "    f1_score=2*precision*recall/(precision+recall)\n",
    "    print ('predictions =',predictions)\n",
    "    print ('predict =',predict)\n",
    "    print ('real =',real)\n",
    "    print ('correct_predict =',correct_predict)\n",
    "    #여기부터 결과. 위는 디버깅용\n",
    "    #print(\"\\nsin predict\",predict[1])\n",
    "    #print(\"sin correct predict : \",correct_predict[1])\n",
    "    #print(\"sin real : \",real[1])\n",
    "    #print(\"\\nnot_sin pricision : \",correct_predict[0]/predict[0])\n",
    "    #print(\"not_sin   recall  : \",correct_predict[0]/real[0])\n",
    "    #print(\"not_sin F1 score  : \",2*correct_predict[0]/predict[0]*correct_predict[0]/real[0]/(correct_predict[0]/predict[0]+correct_predict[0]/real[0]))\n",
    "    print(\"sin pricision : \",precision)\n",
    "    print(\"sin   recall  : \",recall)\n",
    "    print(\"sin F1 score  : \",f1_score)"
   ]
  },
  {
   "cell_type": "code",
   "execution_count": null,
   "metadata": {
    "collapsed": false
   },
   "outputs": [],
   "source": [
    "#setting py\n",
    "batch_size = 100\n",
    "w_init_deviation = 0.5\n",
    "learning_rate=0.4\n",
    "layer2_nodes = 10\n",
    "keep_ratio=1\n",
    "\n",
    "\n",
    "step_size= train_dataset.shape[0]//batch_size\n",
    "#print('step_size = ',step_size)\n",
    "\n",
    "graph = tf.Graph()\n",
    "with graph.as_default():\n",
    "  tf_train_dataset = tf.placeholder(tf.float32,shape=(batch_size, train_dataset.shape[1]))\n",
    "  tf_train_labels = tf.placeholder(tf.float32, shape=(batch_size, num_labels))\n",
    "  tf_test_dataset = tf.constant(test_dataset)\n",
    "    \n",
    "  L1_weights = tf.Variable(\n",
    "    tf.truncated_normal([int(train_dataset.shape[1]), layer2_nodes], mean=0.0, stddev=w_init_deviation))\n",
    "  L1_biases =  tf.Variable(tf.zeros([layer2_nodes]))\n",
    "  L1_logits= tf.nn.dropout(tf.matmul(tf_train_dataset, L1_weights) + L1_biases,keep_ratio)\n",
    "    \n",
    "  L2_weights = tf.Variable(\n",
    "    tf.truncated_normal([layer2_nodes, num_labels], mean=0.0, stddev=w_init_deviation))\n",
    "  L2_biases = tf.Variable(tf.zeros([num_labels]))\n",
    "  L2_logits=tf.matmul(tf.nn.relu(L1_logits), L2_weights) + L2_biases\n",
    "    \n",
    "  loss = tf.reduce_mean(tf.nn.softmax_cross_entropy_with_logits(L2_logits, tf_train_labels))\n",
    "    \n",
    "  optimizer = tf.train.GradientDescentOptimizer(learning_rate).minimize(loss)\n",
    "    \n",
    "  train_prediction = tf.nn.softmax(L2_logits)\n",
    "  test_prediction =tf.nn.softmax(\n",
    "    tf.matmul(tf.nn.relu(tf.matmul(test_dataset, L1_weights) + L1_biases),L2_weights)+L2_biases)\n",
    "    \n",
    "  saver = tf.train.Saver({'w1' : L1_weights,\n",
    "                          'b1' : L1_biases,\n",
    "                          'w2' : L2_weights,\n",
    "                          'b2' : L2_biases,\n",
    "                         })"
   ]
  },
  {
   "cell_type": "code",
   "execution_count": null,
   "metadata": {
    "collapsed": false,
    "scrolled": true
   },
   "outputs": [],
   "source": [
    "with tf.Session(graph=graph) as session:\n",
    "  tf.initialize_all_variables().run()\n",
    "  print(\"Initialized\")\n",
    "  for step in range(step_size):\n",
    "    offset = (step * batch_size) % (train_labels.shape[0] - batch_size)\n",
    "    batch_data = train_dataset[offset:(offset + batch_size), :]\n",
    "    batch_labels = train_labels[offset:(offset + batch_size), :]\n",
    "    feed_dict = {tf_train_dataset : batch_data, tf_train_labels : batch_labels}\n",
    "    global_step=step\n",
    "    _,l, predictions = session.run(\n",
    "      [optimizer,loss, train_prediction], feed_dict=feed_dict)\n",
    "    if (step % (int(step_size*0.2)) == 0):\n",
    "      print(\"Minibatch loss at step %d: %f\" % (step, l))\n",
    "      print(\"Minibatch accuracy: %.1f%%\" % accuracy(predictions, batch_labels))\n",
    "  #print(\"Test accuracy: %.1f%%\" % accuracy(test_prediction.eval(), test_labels))\n",
    "  f1Score(test_prediction.eval(), test_labels)\n",
    "  saver.save(session,'tensorflow_wbsave frompk '+pickle_file[:-7],write_meta_graph=False)\n",
    "  w1 = session.run(L1_weights)\n",
    "  b1 = session.run(L1_biases)\n",
    "  w2 = session.run(L2_weights)\n",
    "  b2 = session.run(L2_biases)\n",
    "\n",
    "  #print('test_prediction = 'session.run(test_prediction))#test 결과체크\n",
    "\n",
    "\n",
    "pickle_name='wbsave frompk '+pickle_file\n",
    "f=open(pickle_name,'w')\n",
    "save ={'w1' : w1,\n",
    "       'b1' : b1,\n",
    "       'w2' : w2,\n",
    "       'b2' : b2,\n",
    "       'col_names' : np.array(column_names),#numpy.array 안붙이면 shape 못쓰기도 하고 다음에 꺼내쓸때 오류날수있음\n",
    "       'tr_dist' : np.array(train_distri),\n",
    "      }\n",
    "pickle.dump(save,f,pickle.HIGHEST_PROTOCOL)\n",
    "f.close()\n",
    "\n",
    "#check pickle\n",
    "print(\"\\npicklize finished\")\n",
    "with open(pickle_name,'r') as f:\n",
    "    trainwb=pickle.load(f)\n",
    "    print(pickle_name)\n",
    "    for k,v in trainwb.items():\n",
    "        print(k,v.shape)\n",
    "\n",
    "\n"
   ]
  },
  {
   "cell_type": "code",
   "execution_count": null,
   "metadata": {
    "collapsed": false
   },
   "outputs": [],
   "source": [
    "# -*- coding: utf-8 -*-\n",
    "import openpyxl\n",
    "import os\n",
    "\n",
    "#엑셀이름\n",
    "excel_name=pickle_name[:pickle_name.find(\".pickle\")]+'.xlsx'\n",
    "\n",
    "def pickleread(pickle_name):\n",
    "    with open(pickle_name,'rb') as f:\n",
    "        data=pickle.load(f)\n",
    "        return data\n",
    "\n",
    "def sheetmake(data):\n",
    "    global pickle_name,excel_name\n",
    "    book = openpyxl.Workbook()\n",
    "    for dictitle , dictdata in data.items():\n",
    "        dictdata=np.matrix(dictdata) #1차원 배열 있으면 shape 차원 하나라 오류나서.\n",
    "        sheet=book.create_sheet(title=dictitle)\n",
    "        for n_col in range(0,dictdata.shape[1]):\n",
    "            for n_row in range(0,dictdata.shape[0]):\n",
    "                input_value=np.asscalar(dictdata[n_row,n_col])          #python native 로 바꿔주는 코드. 이것과 아래줄 둘중하나 필수. \n",
    "                #input_value=dictdata[n_row,n_col]                           #str 오류날때 asscalar 빼면 될때있음\n",
    "                sheet.cell(row=n_row+1,column=n_col+1).value=input_value    #엑셀에선 행,열 첫번호가 1 \n",
    "            #sheet.column_dimensions[openpyxl.cell.get_column_letter(n_col+1)].width = 2.76 #컬럼 넓이 조절. 필요 없으면 빼기\n",
    "        print('making sheet : ',dictitle)\n",
    "    sheet = book.get_sheet_by_name('Sheet') #select sheet named Sheet\n",
    "    book.remove_sheet(sheet) #delete that sheet\n",
    "    print('saving data to excel...')\n",
    "    book.save(excel_name)\n",
    "    print ('finished, file saved : ',excel_name)\n",
    "\n",
    "\n",
    "\n",
    "if os.path.isfile(excel_name): #이미 파일이 있으면 삭제함 #엑셀파일이 열려있으면 삭제도 못하고 오류남. \n",
    "\tos.remove(excel_name)\n",
    "\tprint('target excel file exists. continue after deleting')\n",
    "sheetmake(pickleread(pickle_name))\n"
   ]
  },
  {
   "cell_type": "code",
   "execution_count": null,
   "metadata": {
    "collapsed": true
   },
   "outputs": [],
   "source": []
  }
 ],
 "metadata": {
  "colab": {
   "default_view": {},
   "name": "3_regularization.ipynb",
   "provenance": [],
   "version": "0.3.2",
   "views": {}
  },
  "kernelspec": {
   "display_name": "Python 2",
   "language": "python",
   "name": "python2"
  },
  "language_info": {
   "codemirror_mode": {
    "name": "ipython",
    "version": 2
   },
   "file_extension": ".py",
   "mimetype": "text/x-python",
   "name": "python",
   "nbconvert_exporter": "python",
   "pygments_lexer": "ipython2",
   "version": "2.7.12"
  }
 },
 "nbformat": 4,
 "nbformat_minor": 0
}
